{
 "cells": [
  {
   "cell_type": "code",
   "execution_count": 69,
   "metadata": {},
   "outputs": [],
   "source": [
    "#performs analysis on the output of the model from teh csv file\n",
    "from sklearn import metrics\n",
    "import pandas as pd "
   ]
  },
  {
   "cell_type": "code",
   "execution_count": 70,
   "metadata": {},
   "outputs": [],
   "source": [
    "df = pd.read_csv(\"HateXplain_2022-04-28.csv\")\n",
    "df.head()\n",
    "y_pred = df.prediciton\n",
    "y_true = df.annotators_labels\n"
   ]
  },
  {
   "cell_type": "code",
   "execution_count": 71,
   "metadata": {},
   "outputs": [
    {
     "name": "stdout",
     "output_type": "stream",
     "text": [
      "hamming loss:  0.31633714880332986\n"
     ]
    }
   ],
   "source": [
    "#hamming loss \n",
    "#computes avg hamming loss \n",
    "#hamming loss: the fraction of labels that are incorrectly predicted\n",
    "print(\"hamming loss: \", metrics.hamming_loss(y_true, y_pred)) "
   ]
  },
  {
   "cell_type": "code",
   "execution_count": 72,
   "metadata": {},
   "outputs": [
    {
     "name": "stdout",
     "output_type": "stream",
     "text": [
      "accuracy score:  0.6836628511966701\n"
     ]
    }
   ],
   "source": [
    "#accuracy classification score \n",
    "#in multilabel classification, this computes the subset acc \n",
    "#the set of y_pred for a sample must match w the set y_true \n",
    "print(\"accuracy score: \", metrics.accuracy_score(y_true, y_pred))"
   ]
  },
  {
   "cell_type": "code",
   "execution_count": 73,
   "metadata": {},
   "outputs": [
    {
     "name": "stdout",
     "output_type": "stream",
     "text": [
      "balanced accuracy score:  0.6796502854884013\n"
     ]
    }
   ],
   "source": [
    "#balanced acc score \n",
    "#copmutes a more balanced acc to deal w imbalanced datasets \n",
    "#not sure how imbalanced the trained dataset is but here it is anyways \n",
    "print(\"balanced accuracy score: \", metrics.balanced_accuracy_score(y_true, y_pred))"
   ]
  },
  {
   "cell_type": "code",
   "execution_count": 74,
   "metadata": {},
   "outputs": [
    {
     "name": "stdout",
     "output_type": "stream",
     "text": [
      "f1 score (micro avg):  0.6836628511966701\n",
      "f1 score (micro avg):  0.679997028621723\n"
     ]
    }
   ],
   "source": [
    "#f1 score \n",
    "#not sure which one ud like to use\n",
    "#micro: calculate metrics globally by counting the total true positives, false negatives and false positives.\n",
    "#macro: calculate mtrics for each label, and find their unweighted mean; DOES NOT TAKE INTO ACCOUNT LABEL IMBALANCE\n",
    "print(\"f1 score (micro avg): \", metrics.f1_score(y_true, y_pred, average=\"micro\"))\n",
    "print(\"f1 score (micro avg): \", metrics.f1_score(y_true, y_pred, average=\"macro\"))\n"
   ]
  },
  {
   "cell_type": "code",
   "execution_count": 75,
   "metadata": {},
   "outputs": [
    {
     "data": {
      "image/png": "[encoded data removed]",
      "text/plain": [
       "<Figure size 432x288 with 2 Axes>"
      ]
     },
     "metadata": {
      "needs_background": "light"
     },
     "output_type": "display_data"
    }
   ],
   "source": [
    "#attempt to plot mtx \n",
    "\n",
    "import matplotlib.pyplot as plt \n",
    "metrics.ConfusionMatrixDisplay.from_predictions(y_true, y_pred)\n",
    "plt.show()"
   ]
  },
  {
   "cell_type": "code",
   "execution_count": 76,
   "metadata": {},
   "outputs": [
    {
     "data": {
      "text/html": [
       "<div>\n",
       "<style scoped>\n",
       "    .dataframe tbody tr th:only-of-type {\n",
       "        vertical-align: middle;\n",
       "    }\n",
       "\n",
       "    .dataframe tbody tr th {\n",
       "        vertical-align: top;\n",
       "    }\n",
       "\n",
       "    .dataframe thead th {\n",
       "        text-align: right;\n",
       "    }\n",
       "</style>\n",
       "<table border=\"1\" class=\"dataframe\">\n",
       "  <thead>\n",
       "    <tr style=\"text-align: right;\">\n",
       "      <th></th>\n",
       "      <th>prediciton</th>\n",
       "      <th>annotators_labels</th>\n",
       "    </tr>\n",
       "  </thead>\n",
       "  <tbody>\n",
       "    <tr>\n",
       "      <th>0</th>\n",
       "      <td>2</td>\n",
       "      <td>1</td>\n",
       "    </tr>\n",
       "    <tr>\n",
       "      <th>1</th>\n",
       "      <td>2</td>\n",
       "      <td>1</td>\n",
       "    </tr>\n",
       "    <tr>\n",
       "      <th>2</th>\n",
       "      <td>1</td>\n",
       "      <td>1</td>\n",
       "    </tr>\n",
       "    <tr>\n",
       "      <th>3</th>\n",
       "      <td>2</td>\n",
       "      <td>1</td>\n",
       "    </tr>\n",
       "    <tr>\n",
       "      <th>4</th>\n",
       "      <td>2</td>\n",
       "      <td>1</td>\n",
       "    </tr>\n",
       "  </tbody>\n",
       "</table>\n",
       "</div>"
      ],
      "text/plain": [
       "   prediciton  annotators_labels\n",
       "0           2                  1\n",
       "1           2                  1\n",
       "2           1                  1\n",
       "3           2                  1\n",
       "4           2                  1"
      ]
     },
     "execution_count": 76,
     "metadata": {},
     "output_type": "execute_result"
    }
   ],
   "source": [
    "df2 = pd.read_csv(\"hate_speech_bert_L-12_H-768_A-12_2022-05-04.csv\")\n",
    "df2.head()\n"
   ]
  },
  {
   "cell_type": "code",
   "execution_count": 77,
   "metadata": {},
   "outputs": [
    {
     "data": {
      "text/plain": [
       "0    2\n",
       "1    2\n",
       "2    1\n",
       "3    2\n",
       "4    2\n",
       "Name: prediciton, dtype: int64"
      ]
     },
     "execution_count": 77,
     "metadata": {},
     "output_type": "execute_result"
    }
   ],
   "source": [
    "\n",
    "preds = df2.prediciton\n",
    "labels = df2.annotators_labels\n",
    "preds.head()"
   ]
  },
  {
   "cell_type": "code",
   "execution_count": 78,
   "metadata": {},
   "outputs": [
    {
     "name": "stdout",
     "output_type": "stream",
     "text": [
      "hamming loss for Newer BERT model:  0.6482830385015609\n"
     ]
    }
   ],
   "source": [
    "#hamming loss \n",
    "#computes avg hamming loss \n",
    "#hamming loss: the fraction of labels that are incorrectly predicted\n",
    "print(\"hamming loss for Newer BERT model: \", metrics.hamming_loss(labels, preds))"
   ]
  },
  {
   "cell_type": "code",
   "execution_count": 79,
   "metadata": {},
   "outputs": [
    {
     "name": "stdout",
     "output_type": "stream",
     "text": [
      "accuracy score for Newer BERT model:  0.3517169614984391\n"
     ]
    }
   ],
   "source": [
    "#accuracy classification score \n",
    "#in multilabel classification, this computes the subset acc \n",
    "#the set of y_pred for a sample must match w the set y_true \n",
    "print(\"accuracy score for Newer BERT model: \", metrics.accuracy_score(labels, preds))"
   ]
  },
  {
   "cell_type": "code",
   "execution_count": 80,
   "metadata": {},
   "outputs": [
    {
     "name": "stdout",
     "output_type": "stream",
     "text": [
      "balanced accuracy score for Newer BERT model:  0.35626366082571764\n"
     ]
    }
   ],
   "source": [
    "#balanced acc score \n",
    "#copmutes a more balanced acc to deal w imbalanced datasets \n",
    "#not sure how imbalanced the trained dataset is but here it is anyways \n",
    "print(\"balanced accuracy score for Newer BERT model: \", metrics.balanced_accuracy_score(labels, preds))"
   ]
  },
  {
   "cell_type": "code",
   "execution_count": 81,
   "metadata": {},
   "outputs": [
    {
     "name": "stdout",
     "output_type": "stream",
     "text": [
      "f1 score (micro avg) for NEWER BERT model:  0.3517169614984391\n",
      "f1 score (micro avg) for NEWER BERT model:  0.36521028316606824\n"
     ]
    }
   ],
   "source": [
    "#f1 score \n",
    "#not sure which one ud like to use\n",
    "#micro: calculate metrics globally by counting the total true positives, false negatives and false positives.\n",
    "#macro: calculate mtrics for each label, and find their unweighted mean; DOES NOT TAKE INTO ACCOUNT LABEL IMBALANCE\n",
    "print(\"f1 score (micro avg) for NEWER BERT model: \", metrics.f1_score(labels, preds, average=\"micro\"))\n",
    "print(\"f1 score (micro avg) for NEWER BERT model: \", metrics.f1_score(labels, preds, average=\"macro\"))\n"
   ]
  },
  {
   "cell_type": "code",
   "execution_count": 82,
   "metadata": {},
   "outputs": [
    {
     "data": {
      "image/png": "[encoded data removed]",
      "text/plain": [
       "<Figure size 432x288 with 2 Axes>"
      ]
     },
     "metadata": {
      "needs_background": "light"
     },
     "output_type": "display_data"
    }
   ],
   "source": [
    "metrics.ConfusionMatrixDisplay.from_predictions(labels, preds)\n",
    "plt.show()"
   ]
  }
 ],
 "metadata": {
  "interpreter": {
   "hash": "01dda000e3d044091f013eebcdf58726b4205710ce78de93042748e1cb1919d4"
  },
  "kernelspec": {
   "display_name": "Python 3.10.2 64-bit",
   "name": "python3"
  },
  "language_info": {
   "codemirror_mode": {
    "name": "ipython",
    "version": 3
   },
   "file_extension": ".py",
   "mimetype": "text/x-python",
   "name": "python",
   "nbconvert_exporter": "python",
   "pygments_lexer": "ipython3",
   "version": "3.10.2"
  },
  "orig_nbformat": 4
 },
 "nbformat": 4,
 "nbformat_minor": 2
}
