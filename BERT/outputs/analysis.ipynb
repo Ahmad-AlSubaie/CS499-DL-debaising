{
 "cells": [
  {
   "cell_type": "code",
   "execution_count": 30,
   "metadata": {},
   "outputs": [],
   "source": [
    "#performs analysis on the output of the model from teh csv file\n",
    "from sklearn import metrics\n",
    "import pandas as pd "
   ]
  },
  {
   "cell_type": "code",
   "execution_count": 31,
   "metadata": {},
   "outputs": [],
   "source": [
    "df = pd.read_csv(\"HateXplain_2022-04-28.csv\")\n",
    "df.head()\n",
    "y_pred = df.prediciton\n",
    "y_true = df.annotators_labels\n"
   ]
  },
  {
   "cell_type": "code",
   "execution_count": 32,
   "metadata": {},
   "outputs": [
    {
     "name": "stdout",
     "output_type": "stream",
     "text": [
      "hamming loss:  0.31633714880332986\n"
     ]
    }
   ],
   "source": [
    "#hamming loss \n",
    "#computes avg hamming loss \n",
    "#hamming loss: the fraction of labels that are incorrectly predicted\n",
    "print(\"hamming loss: \", metrics.hamming_loss(y_true, y_pred)) "
   ]
  },
  {
   "cell_type": "code",
   "execution_count": 33,
   "metadata": {},
   "outputs": [
    {
     "name": "stdout",
     "output_type": "stream",
     "text": [
      "accuracy score:  0.6836628511966701\n"
     ]
    }
   ],
   "source": [
    "#accuracy classification score \n",
    "#in multilabel classification, this computes the subset acc \n",
    "#the set of y_pred for a sample must match w the set y_true \n",
    "print(\"accuracy score: \", metrics.accuracy_score(y_true, y_pred))"
   ]
  },
  {
   "cell_type": "code",
   "execution_count": 34,
   "metadata": {},
   "outputs": [
    {
     "name": "stdout",
     "output_type": "stream",
     "text": [
      "balanced accuracy score:  0.6796502854884013\n"
     ]
    }
   ],
   "source": [
    "#balanced acc score \n",
    "#copmutes a more balanced acc to deal w imbalanced datasets \n",
    "#not sure how imbalanced the trained dataset is but here it is anyways \n",
    "print(\"balanced accuracy score: \", metrics.balanced_accuracy_score(y_true, y_pred))"
   ]
  }
 ],
 "metadata": {
  "interpreter": {
   "hash": "01dda000e3d044091f013eebcdf58726b4205710ce78de93042748e1cb1919d4"
  },
  "kernelspec": {
   "display_name": "Python 3.10.2 64-bit",
   "name": "python3"
  },
  "language_info": {
   "codemirror_mode": {
    "name": "ipython",
    "version": 3
   },
   "file_extension": ".py",
   "mimetype": "text/x-python",
   "name": "python",
   "nbconvert_exporter": "python",
   "pygments_lexer": "ipython3",
   "version": "3.10.2"
  },
  "orig_nbformat": 4
 },
 "nbformat": 4,
 "nbformat_minor": 2
}
